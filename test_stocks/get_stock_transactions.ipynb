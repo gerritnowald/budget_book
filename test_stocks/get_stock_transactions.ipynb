{
 "cells": [
  {
   "cell_type": "code",
   "execution_count": 1,
   "metadata": {},
   "outputs": [],
   "source": [
    "import pandas as pd\n",
    "import yaml"
   ]
  },
  {
   "cell_type": "code",
   "execution_count": 2,
   "metadata": {},
   "outputs": [],
   "source": [
    "stocks = [\"IE00B57X3V84\", \"GOOG\"]"
   ]
  },
  {
   "cell_type": "markdown",
   "metadata": {},
   "source": [
    "config file"
   ]
  },
  {
   "cell_type": "code",
   "execution_count": 3,
   "metadata": {},
   "outputs": [],
   "source": [
    "with open(\"..\\\\budget_book\\config.ini\", \"r\") as ymlfile:\n",
    "    cfg = yaml.safe_load(ymlfile)\n",
    "\n",
    "clm = cfg['column names database']"
   ]
  },
  {
   "cell_type": "markdown",
   "metadata": {},
   "source": [
    "read transactions from file"
   ]
  },
  {
   "cell_type": "code",
   "execution_count": 4,
   "metadata": {},
   "outputs": [],
   "source": [
    "file = \"..\\\\budget_book\\\\\" + cfg['CSV filenames']['database']  + \".csv\"\n",
    "transactions = pd.read_csv( file, encoding = 'ISO-8859-1' )\n",
    "\n",
    "transactions[clm['date']] = pd.to_datetime( transactions[clm['date']] , format = cfg['date format'] )\n",
    "transactions.set_index(clm[\"date\"], inplace=True)"
   ]
  },
  {
   "cell_type": "markdown",
   "metadata": {},
   "source": [
    "get stock transactions"
   ]
  },
  {
   "cell_type": "code",
   "execution_count": 5,
   "metadata": {},
   "outputs": [
    {
     "data": {
      "text/html": [
       "<div>\n",
       "<style scoped>\n",
       "    .dataframe tbody tr th:only-of-type {\n",
       "        vertical-align: middle;\n",
       "    }\n",
       "\n",
       "    .dataframe tbody tr th {\n",
       "        vertical-align: top;\n",
       "    }\n",
       "\n",
       "    .dataframe thead th {\n",
       "        text-align: right;\n",
       "    }\n",
       "</style>\n",
       "<table border=\"1\" class=\"dataframe\">\n",
       "  <thead>\n",
       "    <tr style=\"text-align: right;\">\n",
       "      <th></th>\n",
       "      <th>amount</th>\n",
       "      <th>description</th>\n",
       "    </tr>\n",
       "    <tr>\n",
       "      <th>date</th>\n",
       "      <th></th>\n",
       "      <th></th>\n",
       "    </tr>\n",
       "  </thead>\n",
       "  <tbody>\n",
       "    <tr>\n",
       "      <th>2023-12-01</th>\n",
       "      <td>200.0</td>\n",
       "      <td>IE00B57X3V84</td>\n",
       "    </tr>\n",
       "    <tr>\n",
       "      <th>2023-11-01</th>\n",
       "      <td>200.0</td>\n",
       "      <td>IE00B57X3V84</td>\n",
       "    </tr>\n",
       "    <tr>\n",
       "      <th>2023-10-02</th>\n",
       "      <td>200.0</td>\n",
       "      <td>IE00B57X3V84</td>\n",
       "    </tr>\n",
       "    <tr>\n",
       "      <th>2023-09-01</th>\n",
       "      <td>200.0</td>\n",
       "      <td>IE00B57X3V84</td>\n",
       "    </tr>\n",
       "    <tr>\n",
       "      <th>2023-08-01</th>\n",
       "      <td>200.0</td>\n",
       "      <td>IE00B57X3V84</td>\n",
       "    </tr>\n",
       "    <tr>\n",
       "      <th>2023-07-03</th>\n",
       "      <td>200.0</td>\n",
       "      <td>IE00B57X3V84</td>\n",
       "    </tr>\n",
       "    <tr>\n",
       "      <th>2023-06-01</th>\n",
       "      <td>200.0</td>\n",
       "      <td>IE00B57X3V84</td>\n",
       "    </tr>\n",
       "    <tr>\n",
       "      <th>2023-05-01</th>\n",
       "      <td>200.0</td>\n",
       "      <td>IE00B57X3V84</td>\n",
       "    </tr>\n",
       "    <tr>\n",
       "      <th>2023-04-03</th>\n",
       "      <td>200.0</td>\n",
       "      <td>IE00B57X3V84</td>\n",
       "    </tr>\n",
       "    <tr>\n",
       "      <th>2023-03-13</th>\n",
       "      <td>1000.0</td>\n",
       "      <td>GOOG</td>\n",
       "    </tr>\n",
       "    <tr>\n",
       "      <th>2023-03-01</th>\n",
       "      <td>200.0</td>\n",
       "      <td>IE00B57X3V84</td>\n",
       "    </tr>\n",
       "    <tr>\n",
       "      <th>2023-02-01</th>\n",
       "      <td>200.0</td>\n",
       "      <td>IE00B57X3V84</td>\n",
       "    </tr>\n",
       "    <tr>\n",
       "      <th>2023-01-03</th>\n",
       "      <td>200.0</td>\n",
       "      <td>IE00B57X3V84</td>\n",
       "    </tr>\n",
       "  </tbody>\n",
       "</table>\n",
       "</div>"
      ],
      "text/plain": [
       "            amount   description\n",
       "date                            \n",
       "2023-12-01   200.0  IE00B57X3V84\n",
       "2023-11-01   200.0  IE00B57X3V84\n",
       "2023-10-02   200.0  IE00B57X3V84\n",
       "2023-09-01   200.0  IE00B57X3V84\n",
       "2023-08-01   200.0  IE00B57X3V84\n",
       "2023-07-03   200.0  IE00B57X3V84\n",
       "2023-06-01   200.0  IE00B57X3V84\n",
       "2023-05-01   200.0  IE00B57X3V84\n",
       "2023-04-03   200.0  IE00B57X3V84\n",
       "2023-03-13  1000.0          GOOG\n",
       "2023-03-01   200.0  IE00B57X3V84\n",
       "2023-02-01   200.0  IE00B57X3V84\n",
       "2023-01-03   200.0  IE00B57X3V84"
      ]
     },
     "execution_count": 5,
     "metadata": {},
     "output_type": "execute_result"
    }
   ],
   "source": [
    "transactions = transactions[transactions[clm[\"text\"]].str.contains('|'.join(stocks)).fillna(False) ]\n",
    "\n",
    "transactions.drop([clm[\"balance\"], clm[\"category\"]], axis = 1, inplace=True)\n",
    "\n",
    "transactions[clm[\"amount\"]] = - transactions[clm[\"amount\"]]\n",
    "\n",
    "transactions.head(15)"
   ]
  },
  {
   "cell_type": "markdown",
   "metadata": {},
   "source": [
    "save to csv"
   ]
  },
  {
   "cell_type": "code",
   "execution_count": 6,
   "metadata": {},
   "outputs": [],
   "source": [
    "transactions.to_csv('stock_transactions.csv', encoding = \"ISO-8859-1\")"
   ]
  }
 ],
 "metadata": {
  "kernelspec": {
   "display_name": "Python 3",
   "language": "python",
   "name": "python3"
  },
  "language_info": {
   "codemirror_mode": {
    "name": "ipython",
    "version": 3
   },
   "file_extension": ".py",
   "mimetype": "text/x-python",
   "name": "python",
   "nbconvert_exporter": "python",
   "pygments_lexer": "ipython3",
   "version": "3.11.4"
  }
 },
 "nbformat": 4,
 "nbformat_minor": 2
}
