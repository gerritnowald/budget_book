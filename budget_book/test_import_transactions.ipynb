{
 "cells": [
  {
   "attachments": {},
   "cell_type": "markdown",
   "metadata": {},
   "source": [
    "# test importing new transactions\n",
    "Import new transactions into the database, either from csv or via API (*comdirect bank*)"
   ]
  },
  {
   "cell_type": "code",
   "execution_count": null,
   "metadata": {},
   "outputs": [],
   "source": [
    "# pip install pandas\n",
    "import pandas as pd\n",
    "\n",
    "import yaml"
   ]
  },
  {
   "attachments": {},
   "cell_type": "markdown",
   "metadata": {},
   "source": [
    "read settings from config file"
   ]
  },
  {
   "cell_type": "code",
   "execution_count": 2,
   "metadata": {},
   "outputs": [],
   "source": [
    "with open(\"config.ini\", \"r\") as ymlfile:\n",
    "    cfg = yaml.safe_load(ymlfile)\n",
    "\n",
    "clm = cfg['column names database']"
   ]
  },
  {
   "cell_type": "markdown",
   "metadata": {},
   "source": [
    "## pre-processing data\n",
    "\n",
    "import new transactions, either:\n",
    "- from csv (adjust as needed. start from the top and uncomment line by line).  \n",
    "The final code can be inserted into the function 'def transactions_CSV' in 'transaction_importer.py'."
   ]
  },
  {
   "cell_type": "code",
   "execution_count": null,
   "metadata": {},
   "outputs": [],
   "source": [
    "transactions_new = pd.read_csv( cfg['CSV filenames']['bank export'] + '.csv', encoding = 'ISO-8859-1', sep =';', decimal=',', thousands='.', header=3 )\n",
    "\n",
    "# transactions_new = transactions_new.dropna(how='all', axis=1)   # removes all empty columns\n",
    "\n",
    "# transactions_new = transactions_new.drop(['Buchungstag' , ], axis=1)   # insert list of column-names to remove\n",
    "\n",
    "# transactions_new = transactions_new.rename({\n",
    "#     'Wertstellung (Valuta)' : clm['date']   ,\n",
    "#     'Umsatz in EUR'         : clm['amount'] ,\n",
    "#     'Vorgang'               : clm['type']   ,\n",
    "#     'Buchungstext'          : clm['text']   ,\n",
    "#     } , axis=1)\n",
    "\n",
    "# transactions_new[clm['date']] = pd.to_datetime( transactions_new[clm['date']] , format='%d.%m.%Y', errors='coerce' )\n",
    "\n",
    "# transactions_new = transactions_new.dropna(how='any', axis=0)   # removes rows with empty entries"
   ]
  },
  {
   "cell_type": "markdown",
   "metadata": {},
   "source": [
    "- comdirect API"
   ]
  },
  {
   "cell_type": "code",
   "execution_count": 4,
   "metadata": {},
   "outputs": [],
   "source": [
    "# transactions_new = functions.transactions_API_comdirect(clm, pastDays = 30)"
   ]
  },
  {
   "cell_type": "markdown",
   "metadata": {},
   "source": [
    "print out imported transactions"
   ]
  },
  {
   "cell_type": "code",
   "execution_count": null,
   "metadata": {},
   "outputs": [],
   "source": [
    "transactions_new.head(10)"
   ]
  }
 ],
 "metadata": {
  "kernelspec": {
   "display_name": "Python 3",
   "language": "python",
   "name": "python3"
  },
  "language_info": {
   "codemirror_mode": {
    "name": "ipython",
    "version": 3
   },
   "file_extension": ".py",
   "mimetype": "text/x-python",
   "name": "python",
   "nbconvert_exporter": "python",
   "pygments_lexer": "ipython3",
   "version": "3.11.2"
  },
  "orig_nbformat": 4
 },
 "nbformat": 4,
 "nbformat_minor": 2
}
